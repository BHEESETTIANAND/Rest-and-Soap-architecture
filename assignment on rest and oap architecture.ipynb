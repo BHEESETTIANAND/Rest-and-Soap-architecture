{
 "cells": [
  {
   "cell_type": "markdown",
   "id": "ca8e1469",
   "metadata": {},
   "source": [
    "# API: application programming interface\n",
    "\n",
    "    Real life examples where API are used:\n",
    "        i.social media bots\n",
    "        ii.third party login\n",
    "        iii.ecommerce\n",
    "        iv.weather apps"
   ]
  },
  {
   "cell_type": "markdown",
   "id": "2cacaf5a",
   "metadata": {},
   "source": [
    "# Advantages and Disadvantages of API'S:\n",
    "    Advantages:\n",
    "        i.By using the api's we can communicate with the different applications.\n",
    "        ii.API'S make the authentication procedure faster.\n",
    "    Disadvantages:\n",
    "             As a single point of entry, an API is a gateway and can become a hacker's primary target. Once the API is      compromised, all other applications and systems become vulnerable."
   ]
  },
  {
   "cell_type": "code",
   "execution_count": null,
   "id": "afab43c9",
   "metadata": {},
   "outputs": [],
   "source": [
    "\"\"\" The WEB API is the api which works on HTTP protocol\n",
    "        \n",
    "    Difference between web api and api:\n",
    "        i.The web api only uses the http protocol\n",
    "        ii.While the api can use TCP,SMTP,HTTP protocols\"\"\""
   ]
  },
  {
   "cell_type": "markdown",
   "id": "8af39024",
   "metadata": {},
   "source": [
    "# Rest and Soap architecture\n",
    "    Both the Rest and Soap are used to create the api's\n",
    "\n",
    "    Rest:\n",
    "        It is Representational state transfer\n",
    "        It uses HTTP\n",
    "    Soap:\n",
    "        It is simple object access protocol\n",
    "        It uses TCP/SMTP\n",
    "        It transfers the data in the form of XML files in which the internal documentation is done using the WSDL.\n",
    "        The Soap architecture is less scalable,less flexible,less simplicity.\n",
    "        THe Soap architecture provides better security when compare to Rest architecture."
   ]
  },
  {
   "cell_type": "markdown",
   "id": "baea0706",
   "metadata": {},
   "source": [
    "# Difference between Rest and Soap architecture\n",
    "\n",
    "    Soap:\n",
    "        i.Relies on SOAP (Simple Object Access Protocol)\n",
    "        ii.Transports data in standard XML format.\n",
    "        iii.Because it is XML based and relies on SOAP, it works with WSDL\n",
    "        iv.Works over HTTP, HTTPS, SMTP, XMPP\n",
    "        v.Highly structured/typed\n",
    "    Rest:\n",
    "        i.t Access Protocol)\tRelies on REST (Representational State Transfer) architecture using HTTP.\n",
    "        ii.Generally transports data in JSON. It is based on URI.\n",
    "           Because REST follows stateless model, REST does not enforces message format as XML or JSON etc.\n",
    "        iii.It works with GET, POST, PUT, DELETE\n",
    "        iv.Works over HTTP and HTTPS\n",
    "        v.Less structured -> less bulky data"
   ]
  },
  {
   "cell_type": "code",
   "execution_count": null,
   "id": "8fbc6fd3",
   "metadata": {},
   "outputs": [],
   "source": []
  }
 ],
 "metadata": {
  "kernelspec": {
   "display_name": "Python 3 (ipykernel)",
   "language": "python",
   "name": "python3"
  },
  "language_info": {
   "codemirror_mode": {
    "name": "ipython",
    "version": 3
   },
   "file_extension": ".py",
   "mimetype": "text/x-python",
   "name": "python",
   "nbconvert_exporter": "python",
   "pygments_lexer": "ipython3",
   "version": "3.9.13"
  }
 },
 "nbformat": 4,
 "nbformat_minor": 5
}
